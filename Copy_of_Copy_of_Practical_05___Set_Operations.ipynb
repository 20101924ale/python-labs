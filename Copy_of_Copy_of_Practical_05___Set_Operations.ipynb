{
  "cells": [
    {
      "cell_type": "markdown",
      "metadata": {
        "label": "title",
        "id": "IK4lLNzxiwfl"
      },
      "source": [
        "# Practical 05 - Set Operations"
      ]
    },
    {
      "cell_type": "markdown",
      "metadata": {
        "label": "setup",
        "id": "wX7O__ugiwfn"
      },
      "source": [
        "## Setup"
      ]
    },
    {
      "cell_type": "code",
      "execution_count": null,
      "metadata": {
        "cellView": "form",
        "label": "bio",
        "id": "S4TWIGVfiwfn"
      },
      "outputs": [],
      "source": [
        "#@markdown **Please enter your following details and press Shift-Enter to save:**\n",
        "your_student_number = '20101924' #@param {type: \"string\"}\n",
        "your_name = 'Alexandra Dinea' #@param {type: \"string\"}"
      ]
    },
    {
      "cell_type": "code",
      "execution_count": null,
      "metadata": {
        "label": "setup",
        "colab": {
          "base_uri": "https://localhost:8080/",
          "height": 52
        },
        "id": "rhGV4TDEiwfn",
        "outputId": "236534d5-d925-4425-dc2d-196e99cade3f"
      },
      "outputs": [
        {
          "output_type": "stream",
          "name": "stdout",
          "text": [
            "Loading ... \n"
          ]
        },
        {
          "output_type": "display_data",
          "data": {
            "text/plain": [
              "<IPython.core.display.HTML object>"
            ],
            "text/html": [
              "<script>alert('Make sure to specify your student ID and your name in the Setup section of this notebook.');</script>"
            ]
          },
          "metadata": {}
        },
        {
          "output_type": "execute_result",
          "data": {
            "text/plain": [
              "<IPython.core.display.HTML object>"
            ],
            "text/html": [
              "<style>\n",
              "\n",
              "\n",
              "\n",
              "/* counting headers and my styling */\n",
              "\n",
              ".navbar-collapse.collapse {\n",
              "display: block!important;\n",
              "}\n",
              "\n",
              ".navbar-nav>li, .navbar-nav {\n",
              "float: left !important;\n",
              "}\n",
              "\n",
              ".navbar-nav.navbar-right:last-child {\n",
              "margin-right: -15px !important;\n",
              "}\n",
              "\n",
              ".navbar-right {\n",
              "float: right!important;\n",
              "}\n",
              "\n",
              "#notebook_name {\n",
              "    font-weight: 600;\n",
              "}\n",
              "\n",
              "h1 {\n",
              "\ttext-align: center;\n",
              "\tbackground-color: rgba(0,255,1,0.15);\n",
              "\tborder-bottom: 1px solid #cccccc;\n",
              "\tcounter-reset: h2counter;\t\n",
              "}\n",
              "\n",
              "h2 {\n",
              "\ttext-align: center;\n",
              "\twidth: 75%;\n",
              "\tmargin-left: 25%;\n",
              "\tbackground-color: rgba(255,255,1,0.15);\n",
              "\tborder-bottom: 1px solid #cccccc;\n",
              "\tcounter-reset: h3counter;\t\n",
              "}\n",
              "h2:before {\n",
              "\tcounter-increment: h2counter;\n",
              "}\n",
              "\n",
              "h3 {\n",
              "\tborder-bottom: 1px solid #cccccc;\t\n",
              "}\n",
              "h3:before {\n",
              "\tcounter-increment: h3counter;\n",
              "}\n",
              "\n",
              "h4 {\n",
              "\tborder-bottom: 1px solid #cccccc;\t\n",
              "}\n",
              "h4:before {\n",
              "\tcounter-increment: h4counter;\n",
              "}\n",
              " </style>Python practical setup tools version 2021.2. See <a target=\"_blank\" href=\"http://DiscreteMathematics-202122.github.io/liv/\">DiscreteMathematics-202122.github.io/live</a>"
            ]
          },
          "metadata": {},
          "execution_count": 2
        }
      ],
      "source": [
        "# setup magic, do not edit this cell! Just press Shift+Enter or click on arrow at top-left\n",
        "\n",
        "import urllib.request\n",
        "content = urllib.request.urlretrieve (\"http://discretemathematics-202122.github.io/live/resources/setup_practical_magic.py\")\n",
        "exec(open(content[0]).read())\n",
        "setup_practical(locals())"
      ]
    },
    {
      "cell_type": "markdown",
      "metadata": {
        "label": "Introduction",
        "id": "AXK1Owo2iwfn"
      },
      "source": [
        "---\n",
        "## Introduction\n",
        "\n",
        "In this practical we will\n",
        " \n",
        "  * Determine relationship between sets (subset, etc.)\n",
        "  * Demonstrate set operations (union, intersection, etc.)\n",
        "  * Prove set identities using membership tables."
      ]
    },
    {
      "cell_type": "markdown",
      "metadata": {
        "id": "0xlwYNo_iwfo"
      },
      "source": [
        "### Mathematics Concepts\n",
        "\n",
        " * Set relations: subset $\\subseteq$, superset $\\supseteq$\n",
        " * Set operations: intersection $\\cap$, union $\\cup$, set difference $\\setminus$, symmetric difference $\\oplus$."
      ]
    },
    {
      "cell_type": "markdown",
      "metadata": {
        "id": "C5oirJ5niwfo"
      },
      "source": [
        "### Python Concepts\n",
        "\n",
        " * Set relations: subset  $A \\subseteq B$\n",
        " \n",
        "~~~python\n",
        "    A.issubset(B)\n",
        "~~~\n",
        "\n",
        " * Set relations: subset  $A \\supseteq B$\n",
        " \n",
        "~~~python\n",
        "    A.issuperset(B)\n",
        "~~~\n",
        "\n",
        " * Set operations: intersection $\\cap$\n",
        "\n",
        "~~~python\n",
        "    C = A.intersection(B)\n",
        "~~~\n",
        "\n",
        "\n",
        " * Set operations: union $\\cup$\n",
        "\n",
        "~~~python\n",
        "    C = A.union(B)\n",
        "~~~\n",
        "\n",
        " * Set operations: set difference $A\\setminus B$\n",
        "\n",
        "~~~python\n",
        "    C = A.difference(B)\n",
        "~~~\n",
        "\n",
        " * Set operations: Cartesian product $A\\times B$\n",
        "\n",
        "~~~python\n",
        "    C = { (a,b) for a in A for b in B }\n",
        "~~~\n",
        "\n",
        " * Set operations: Relation, for example \"less than\" \n",
        "\n",
        "~~~python\n",
        "    C = { (a,b) for a in A for b in B if a<b}\n",
        "~~~"
      ]
    },
    {
      "cell_type": "markdown",
      "metadata": {
        "id": "Y5yTzl0Qiwfo"
      },
      "source": [
        "Finally, remember from last week's practical:\n",
        "\n",
        " * To create an empty set:\n",
        " \n",
        "~~~python\n",
        "    A = set()\n",
        "~~~\n",
        "\n",
        " * Create a set with a given list of elements, say primes less than ten:\n",
        " \n",
        "~~~python\n",
        "   A = set(2,3,5,7)\n",
        "~~~\n",
        "\n",
        " * To print a set, $A$, with a label:\n",
        " \n",
        "~~~python\n",
        "   print(\"A = \", A)\n",
        "~~~\n",
        "\n",
        " * To print the number of elements in a set, $A$, with a label:\n",
        " \n",
        "~~~python\n",
        "   print(\"A = \", len(A))\n",
        "~~~"
      ]
    },
    {
      "cell_type": "markdown",
      "metadata": {
        "id": "bCAexgBmiwfp"
      },
      "source": [
        "---\n",
        "## Set Operations"
      ]
    },
    {
      "cell_type": "markdown",
      "metadata": {
        "id": "QAPXOI1Hiwfp"
      },
      "source": [
        "### Question 1\n",
        "\n",
        "Write code to:\n",
        "\n",
        " * Create set $A$ containg natural numbers up to but not including 20.\n",
        " * Output the set $A$ with a label using `print`.\n",
        " * Create set $B$ containg even natural numbers up to but not including 10.\n",
        " * Output the set $B$ with a label using `print`.\n",
        " * Define set $C=A\\setminus B$.\n",
        " * Output the set $C$ with a label using `print`.\n",
        "\n",
        "\n",
        "Hint: When generating the sets $A$ and $B$, you _could_ list the numbers but try to create set using `range` function or set builder notation."
      ]
    },
    {
      "cell_type": "code",
      "execution_count": null,
      "metadata": {
        "label": "Q1",
        "colab": {
          "base_uri": "https://localhost:8080/"
        },
        "id": "xo18XD7xiwfp",
        "outputId": "936fe638-9791-4fa7-e936-0cc7e51d0762"
      },
      "outputs": [
        {
          "output_type": "stream",
          "name": "stdout",
          "text": [
            "A =  {0, 1, 2, 3, 4, 5, 6, 7, 8, 9, 10, 11, 12, 13, 14, 15, 16, 17, 18, 19}\n",
            "B =  {8, 2, 4, 6}\n",
            "C =  {0, 1, 3, 5, 7, 9, 10, 11, 12, 13, 14, 15, 16, 17, 18, 19}\n"
          ]
        }
      ],
      "source": [
        "# Question 1\n",
        "A = set(range(20))\n",
        "print(\"A = \", A)\n",
        "B = set(range(2,10,2))\n",
        "print(\"B = \", B)\n",
        "C = A.difference(B)\n",
        "print(\"C = \", C)"
      ]
    },
    {
      "cell_type": "markdown",
      "metadata": {
        "id": "hhWDMzPZiwfp"
      },
      "source": [
        "### Question 2 (Multiple of 3 and 5)\n",
        "\n",
        "Write code to:\n",
        "\n",
        " * Create set $A$ containing natural numbers up to but not including 100 that are multiples of 3.\n",
        " * Output the set $A$ with a label using `print`.\n",
        " * Create set $B$ containing natural numbers up to but not including 100 that are multiples of 5.\n",
        " * Output the set $B$ with a label using `print`.\n",
        " * Output set $C=A\\cap B$.\n",
        " * Output the set $C$ with a label using `print`.\n"
      ]
    },
    {
      "cell_type": "code",
      "execution_count": null,
      "metadata": {
        "label": "Q2",
        "colab": {
          "base_uri": "https://localhost:8080/"
        },
        "id": "oNDSx8g4iwfq",
        "outputId": "4d49a7fa-2b60-44f5-beb7-06136e772250"
      },
      "outputs": [
        {
          "output_type": "stream",
          "name": "stdout",
          "text": [
            "A = {0, 3, 6, 9, 12, 15, 18, 21, 24, 27, 30, 33, 36, 39, 42, 45, 48, 51, 54, 57, 60, 63, 66, 69, 72, 75, 78, 81, 84, 87, 90, 93, 96, 99}\n",
            "B = {0, 5, 10, 15, 20, 25, 30, 35, 40, 45, 50, 55, 60, 65, 70, 75, 80, 85, 90, 95}\n",
            "C = {0, 75, 45, 15, 90, 60, 30}\n"
          ]
        }
      ],
      "source": [
        "# Question 2\n",
        "A = set(k for k in range(100) if k%3 == 0)\n",
        "print(\"A =\", A)\n",
        "B = set(k for k in range(100) if k%5 == 0)\n",
        "print(\"B =\", B)\n",
        "C = A.intersection(B)\n",
        "print(\"C =\", C)"
      ]
    },
    {
      "cell_type": "markdown",
      "metadata": {
        "id": "Ggi2F1rPiwfq"
      },
      "source": [
        "### Question 3 (properties of sets)\n",
        "\n",
        "In this question we want to use the `issubset` method that checks the subset property, i.e., $A \\subseteq B$.\n",
        "\n",
        "Write code to:\n",
        "\n",
        " * Create set $A$ containing natural numbers up to but not including 100 that are multiples of 3.\n",
        " * Output the set $A$ with a label using `print`.\n",
        " * Create set $B$ containing natural numbers up to but not including 100 that are multiples of 5.\n",
        " * Output the set $B$ with a label using `print`.\n",
        " * Create set $C$ containing natural numbers up to but not including 100 that are multiples of 15.\n",
        " * Output the set $C$ with a label using `print`.\n",
        " \n",
        "Now, if the sets are constructed correctly we should have $C\\subseteq A$ and $C\\subseteq B$, but $A\\not\\subseteq B$. Let's check this ...\n",
        "\n",
        "To check $C\\subseteq A$ use code\n",
        "~~~python\n",
        "print (\"Is C is a subset of A?\", C.issubset(A))\n",
        "~~~\n",
        "\n",
        "Now, write code to check the truth value of each of the following (and compare the results with your expectations)\n",
        "\n",
        " * $C\\subseteq B$\n",
        " * $A\\subseteq B$\n",
        " * $C\\subseteq C$\n",
        " \n",
        "Why you are checking properties, write python code to check if $C=A \\cap B$. "
      ]
    },
    {
      "cell_type": "code",
      "execution_count": null,
      "metadata": {
        "colab": {
          "base_uri": "https://localhost:8080/"
        },
        "id": "PUwzdSxYiwfq",
        "outputId": "cf8695c2-f919-4af6-e2ba-f41c746dbc42"
      },
      "outputs": [
        {
          "output_type": "stream",
          "name": "stdout",
          "text": [
            "A = {0, 3, 6, 9, 12, 15, 18, 21, 24, 27, 30, 33, 36, 39, 42, 45, 48, 51, 54, 57, 60, 63, 66, 69, 72, 75, 78, 81, 84, 87, 90, 93, 96, 99}\n",
            "B = {0, 5, 10, 15, 20, 25, 30, 35, 40, 45, 50, 55, 60, 65, 70, 75, 80, 85, 90, 95}\n",
            "C = {0, 75, 45, 15, 90, 60, 30}\n",
            "Is C is a subset of A? True\n",
            "Is C is a subset of B? True\n",
            "Is A is a subset of B? False\n",
            "Is C is a subset of C? True\n",
            "Is C equal to A intersection B? True\n"
          ]
        }
      ],
      "source": [
        "# Question 4\n",
        "A = set(k for k in range(100) if k%3 == 0)\n",
        "print(\"A =\", A)\n",
        "\n",
        "B = set(k for k in range(100) if k%5 == 0)\n",
        "print(\"B =\", B)\n",
        "\n",
        "C = set(k for k in range(100) if k%15 == 0)\n",
        "print(\"C =\", C)\n",
        "\n",
        "print (\"Is C is a subset of A?\", C.issubset(A))\n",
        "print (\"Is C is a subset of B?\", C.issubset(B))\n",
        "print (\"Is A is a subset of B?\", A.issubset(B))\n",
        "print (\"Is C is a subset of C?\", C.issubset(C))\n",
        "print (\"Is C equal to A intersection B?\", C == A.intersection(B))\n"
      ]
    },
    {
      "cell_type": "markdown",
      "metadata": {
        "id": "3p8s8bGTiwfq"
      },
      "source": [
        "### Question 4 (Counting primes)\n",
        "\n",
        "We want to write code to determine how many primes are less than 100 (answer=25). To do this we create a set $A$ of integers greater than one and less than 100. And then remove, using set minus operation, multiples of 2, multiples of 3, ... up to multiples of 10. \n",
        "\n",
        "Then we determine the size of the resulting set.\n",
        "\n",
        "Write code to:\n",
        "\n",
        " 1. Create set $A$ containing integers, greater than 1, up to but not including 100.\n",
        " 1. Output the set $A$ with a label using `print`.\n",
        " 1. Create set $B$ containing positive integers up to but not including 100 that are multiples of 2.\n",
        " 1. Output the set $B$ with a label using `print`.\n",
        " 1. Remove this from set $A$, and save the result back in to $A$.\n",
        " 1. Repeat for steps 3&ndash;5 with multiples of 3, multiples of 5, etc.\n",
        " \n",
        "Finally\n",
        "\n",
        " 1. Output the size of final set with a label using `print`.\n",
        " \n",
        "Note: You could manually list the numbers 2,3,5,7 for step 3, or you could use the `min` function on the set $A$."
      ]
    },
    {
      "cell_type": "code",
      "execution_count": null,
      "metadata": {
        "label": "Q3",
        "id": "qjwpkak2iwfr",
        "colab": {
          "base_uri": "https://localhost:8080/"
        },
        "outputId": "b534cdba-c891-45c0-ba9f-4bdf30b42204"
      },
      "outputs": [
        {
          "output_type": "stream",
          "name": "stdout",
          "text": [
            "A is {1, 2, 3, 4, 5, 6, 7, 8, 9, 10, 11, 12, 13, 14, 15, 16, 17, 18, 19, 20, 21, 22, 23, 24, 25, 26, 27, 28, 29, 30, 31, 32, 33, 34, 35, 36, 37, 38, 39, 40, 41, 42, 43, 44, 45, 46, 47, 48, 49, 50, 51, 52, 53, 54, 55, 56, 57, 58, 59, 60, 61, 62, 63, 64, 65, 66, 67, 68, 69, 70, 71, 72, 73, 74, 75, 76, 77, 78, 79, 80, 81, 82, 83, 84, 85, 86, 87, 88, 89, 90, 91, 92, 93, 94, 95, 96, 97, 98, 99}\n",
            "B is {1, 3, 5, 7, 9, 11, 13, 15, 17, 19, 21, 23, 25, 27, 29, 31, 33, 35, 37, 39, 41, 43, 45, 47, 49, 51, 53, 55, 57, 59, 61, 63, 65, 67, 69, 71, 73, 75, 77, 79, 81, 83, 85, 87, 89, 91, 93, 95, 97, 99}\n",
            "A is {2, 4, 6, 8, 10, 12, 14, 16, 18, 20, 22, 24, 26, 28, 30, 32, 34, 36, 38, 40, 42, 44, 46, 48, 50, 52, 54, 56, 58, 60, 62, 64, 66, 68, 70, 72, 74, 76, 78, 80, 82, 84, 86, 88, 90, 92, 94, 96, 98}\n",
            "A is {1, 3, 5, 7, 9, 11, 13, 15, 17, 19, 21, 23, 25, 27, 29, 31, 33, 35, 37, 39, 41, 43, 45, 47, 49, 51, 53, 55, 57, 59, 61, 63, 65, 67, 69, 71, 73, 75, 77, 79, 81, 83, 85, 87, 89, 91, 93, 95, 97, 99}\n",
            "A =  50\n"
          ]
        }
      ],
      "source": [
        "# Question 4\n",
        "A = set(range(1,100))\n",
        "print(\"A is\", A)\n",
        "B = set(range(1,100,2))\n",
        "print(\"B is\", B)\n",
        "A = A.difference(B)\n",
        "print(\"A is\", A)\n",
        "A = B.difference(A)\n",
        "print(\"A is\", A)\n",
        "print(\"A = \", len(A))"
      ]
    },
    {
      "cell_type": "markdown",
      "metadata": {
        "id": "FioizJN6iwfr"
      },
      "source": [
        "---\n",
        "## Relations"
      ]
    },
    {
      "cell_type": "markdown",
      "metadata": {
        "id": "qzXHTBy3iwfr"
      },
      "source": [
        "### Question 5\n",
        "\n",
        "Write code to \n",
        "\n",
        " * Create set $A$ containing positive integers up to but not including 5.\n",
        " * Output the set $A$ with a label using `print`.\n",
        " * Create set $B$ containing positive integers up to but not including 17.\n",
        " * Output the set $B$ with a label using `print`.\n",
        " * Create a relation $R$ from $A$ to $B$ where $ (a,b)\\in R$ iff $a^2=b$.\n",
        " * Output the set $R$ with a label using `print`.\n",
        "\n",
        "Finally draw a diagram representing the relation using \n",
        "\n",
        "```python\n",
        "draw_relation(A,B,R)\n",
        "```\n",
        "\n",
        "Remember: To get powers in python use `**`"
      ]
    },
    {
      "cell_type": "code",
      "execution_count": 2,
      "metadata": {
        "label": "Q4",
        "id": "Oym2w9BIiwfr",
        "colab": {
          "base_uri": "https://localhost:8080/",
          "height": 401
        },
        "outputId": "b5eed324-b898-407e-c0e7-7da600a043a3"
      },
      "outputs": [
        {
          "output_type": "stream",
          "name": "stdout",
          "text": [
            "A is {0, 1, 2, 3, 4, 5, 6, 7, 8, 9}\n",
            "B is {0, 1, 2, 3, 4, 5, 6, 7, 8, 9}\n"
          ]
        },
        {
          "output_type": "error",
          "ename": "NameError",
          "evalue": "ignored",
          "traceback": [
            "\u001b[0;31m---------------------------------------------------------------------------\u001b[0m",
            "\u001b[0;31mNameError\u001b[0m                                 Traceback (most recent call last)",
            "\u001b[0;32m<ipython-input-2-e323c14534a8>\u001b[0m in \u001b[0;36m<module>\u001b[0;34m\u001b[0m\n\u001b[1;32m      5\u001b[0m \u001b[0mprint\u001b[0m\u001b[0;34m(\u001b[0m\u001b[0;34m\"B is\"\u001b[0m\u001b[0;34m,\u001b[0m \u001b[0mB\u001b[0m\u001b[0;34m)\u001b[0m\u001b[0;34m\u001b[0m\u001b[0;34m\u001b[0m\u001b[0m\n\u001b[1;32m      6\u001b[0m \u001b[0mletters\u001b[0m \u001b[0;34m=\u001b[0m \u001b[0;34m[\u001b[0m\u001b[0;36m4\u001b[0m\u001b[0;34m,\u001b[0m \u001b[0;36m3\u001b[0m\u001b[0;34m,\u001b[0m \u001b[0;36m3\u001b[0m\u001b[0;34m,\u001b[0m \u001b[0;36m5\u001b[0m\u001b[0;34m,\u001b[0m \u001b[0;36m4\u001b[0m\u001b[0;34m,\u001b[0m \u001b[0;36m4\u001b[0m\u001b[0;34m,\u001b[0m \u001b[0;36m3\u001b[0m\u001b[0;34m,\u001b[0m \u001b[0;36m5\u001b[0m\u001b[0;34m,\u001b[0m \u001b[0;36m5\u001b[0m\u001b[0;34m,\u001b[0m \u001b[0;36m4\u001b[0m\u001b[0;34m]\u001b[0m\u001b[0;34m\u001b[0m\u001b[0;34m\u001b[0m\u001b[0m\n\u001b[0;32m----> 7\u001b[0;31m \u001b[0mR\u001b[0m \u001b[0;34m=\u001b[0m \u001b[0;34m{\u001b[0m\u001b[0;34m(\u001b[0m\u001b[0mA\u001b[0m\u001b[0;34m,\u001b[0m\u001b[0mB\u001b[0m\u001b[0;34m)\u001b[0m \u001b[0;32mfor\u001b[0m \u001b[0mA\u001b[0m \u001b[0;32min\u001b[0m \u001b[0mB\u001b[0m \u001b[0;32mif\u001b[0m \u001b[0mnumbers\u001b[0m \u001b[0;34m(\u001b[0m\u001b[0ma\u001b[0m\u001b[0;34m**\u001b[0m\u001b[0;36m2\u001b[0m\u001b[0;34m)\u001b[0m\u001b[0;34m==\u001b[0m\u001b[0mb\u001b[0m\u001b[0;34m}\u001b[0m\u001b[0;34m\u001b[0m\u001b[0;34m\u001b[0m\u001b[0m\n\u001b[0m\u001b[1;32m      8\u001b[0m \u001b[0mprint\u001b[0m\u001b[0;34m(\u001b[0m\u001b[0;34m\"R is\"\u001b[0m\u001b[0;34m,\u001b[0m \u001b[0mR\u001b[0m\u001b[0;34m)\u001b[0m\u001b[0;34m\u001b[0m\u001b[0;34m\u001b[0m\u001b[0m\n\u001b[1;32m      9\u001b[0m \u001b[0mdraw_relation\u001b[0m\u001b[0;34m(\u001b[0m\u001b[0mA\u001b[0m\u001b[0;34m,\u001b[0m\u001b[0mB\u001b[0m\u001b[0;34m,\u001b[0m\u001b[0mR\u001b[0m\u001b[0;34m)\u001b[0m\u001b[0;34m\u001b[0m\u001b[0;34m\u001b[0m\u001b[0m\n",
            "\u001b[0;32m<ipython-input-2-e323c14534a8>\u001b[0m in \u001b[0;36m<setcomp>\u001b[0;34m(.0)\u001b[0m\n\u001b[1;32m      5\u001b[0m \u001b[0mprint\u001b[0m\u001b[0;34m(\u001b[0m\u001b[0;34m\"B is\"\u001b[0m\u001b[0;34m,\u001b[0m \u001b[0mB\u001b[0m\u001b[0;34m)\u001b[0m\u001b[0;34m\u001b[0m\u001b[0;34m\u001b[0m\u001b[0m\n\u001b[1;32m      6\u001b[0m \u001b[0mletters\u001b[0m \u001b[0;34m=\u001b[0m \u001b[0;34m[\u001b[0m\u001b[0;36m4\u001b[0m\u001b[0;34m,\u001b[0m \u001b[0;36m3\u001b[0m\u001b[0;34m,\u001b[0m \u001b[0;36m3\u001b[0m\u001b[0;34m,\u001b[0m \u001b[0;36m5\u001b[0m\u001b[0;34m,\u001b[0m \u001b[0;36m4\u001b[0m\u001b[0;34m,\u001b[0m \u001b[0;36m4\u001b[0m\u001b[0;34m,\u001b[0m \u001b[0;36m3\u001b[0m\u001b[0;34m,\u001b[0m \u001b[0;36m5\u001b[0m\u001b[0;34m,\u001b[0m \u001b[0;36m5\u001b[0m\u001b[0;34m,\u001b[0m \u001b[0;36m4\u001b[0m\u001b[0;34m]\u001b[0m\u001b[0;34m\u001b[0m\u001b[0;34m\u001b[0m\u001b[0m\n\u001b[0;32m----> 7\u001b[0;31m \u001b[0mR\u001b[0m \u001b[0;34m=\u001b[0m \u001b[0;34m{\u001b[0m\u001b[0;34m(\u001b[0m\u001b[0mA\u001b[0m\u001b[0;34m,\u001b[0m\u001b[0mB\u001b[0m\u001b[0;34m)\u001b[0m \u001b[0;32mfor\u001b[0m \u001b[0mA\u001b[0m \u001b[0;32min\u001b[0m \u001b[0mB\u001b[0m \u001b[0;32mif\u001b[0m \u001b[0mnumbers\u001b[0m \u001b[0;34m(\u001b[0m\u001b[0ma\u001b[0m\u001b[0;34m**\u001b[0m\u001b[0;36m2\u001b[0m\u001b[0;34m)\u001b[0m\u001b[0;34m==\u001b[0m\u001b[0mb\u001b[0m\u001b[0;34m}\u001b[0m\u001b[0;34m\u001b[0m\u001b[0;34m\u001b[0m\u001b[0m\n\u001b[0m\u001b[1;32m      8\u001b[0m \u001b[0mprint\u001b[0m\u001b[0;34m(\u001b[0m\u001b[0;34m\"R is\"\u001b[0m\u001b[0;34m,\u001b[0m \u001b[0mR\u001b[0m\u001b[0;34m)\u001b[0m\u001b[0;34m\u001b[0m\u001b[0;34m\u001b[0m\u001b[0m\n\u001b[1;32m      9\u001b[0m \u001b[0mdraw_relation\u001b[0m\u001b[0;34m(\u001b[0m\u001b[0mA\u001b[0m\u001b[0;34m,\u001b[0m\u001b[0mB\u001b[0m\u001b[0;34m,\u001b[0m\u001b[0mR\u001b[0m\u001b[0;34m)\u001b[0m\u001b[0;34m\u001b[0m\u001b[0;34m\u001b[0m\u001b[0m\n",
            "\u001b[0;31mNameError\u001b[0m: name 'numbers' is not defined"
          ]
        }
      ],
      "source": [
        "# Question 5\n",
        "A = set(range(10))\n",
        "print(\"A is\", A)\n",
        "B = set(range(10))\n",
        "print(\"B is\", B)\n",
        "letters = [4, 3, 3, 5, 4, 4, 3, 5, 5, 4]\n",
        "R = {(A,B) for A in B if numbers (a**2)==b}\n",
        "print(\"R is\", R)\n",
        "draw_relation(A,B,R)"
      ]
    },
    {
      "cell_type": "markdown",
      "metadata": {
        "id": "xpxNGAYmiwfr"
      },
      "source": [
        "### Question 6\n",
        "\n",
        "\n",
        "Write code to \n",
        "\n",
        " * Create set $A$ containing digits 0 to 9 inclusive.\n",
        " * Output the set $A$ with a label using `print`.\n",
        " * Create set $B$ containing digits 0 to 9 inclusive.\n",
        " * Output the set $B$ with a label using `print`.\n",
        " * Create a relation $R$ from $A$ to $B$ where $ (a,b)\\in R$ iff number of letters in $a$ is the same as the number of letters in $b$ when writing digits in English.\n",
        " * Output the set $R$ with a label using `print`.\n",
        " * Generate relation diagram using `draw_relation(A,B,R)`.\n"
      ]
    },
    {
      "cell_type": "code",
      "execution_count": null,
      "metadata": {
        "label": "Q5",
        "id": "Il3G8BT5iwfr",
        "colab": {
          "base_uri": "https://localhost:8080/",
          "height": 133
        },
        "outputId": "77739936-7b04-482d-81fe-69f182134160"
      },
      "outputs": [
        {
          "output_type": "error",
          "ename": "SyntaxError",
          "evalue": "ignored",
          "traceback": [
            "\u001b[0;36m  File \u001b[0;32m\"<ipython-input-5-5590e0004b84>\"\u001b[0;36m, line \u001b[0;32m8\u001b[0m\n\u001b[0;31m    A for b in B if\u001b[0m\n\u001b[0m    ^\u001b[0m\n\u001b[0;31mSyntaxError\u001b[0m\u001b[0;31m:\u001b[0m invalid syntax\n"
          ]
        }
      ],
      "source": [
        "# Question 6"
      ]
    },
    {
      "cell_type": "markdown",
      "metadata": {
        "id": "SjNo7P9iiwfr"
      },
      "source": [
        "---\n",
        "## Review/Feedback (P05)"
      ]
    },
    {
      "cell_type": "code",
      "execution_count": null,
      "metadata": {
        "cellView": "form",
        "label": "feedback",
        "id": "zVBVgU8Kiwfr"
      },
      "outputs": [],
      "source": [
        "#@markdown This a a short questionnaire for you to provide feedback on how you think the semester is progressing and in particular for __Discrete Mathematics__, how easy/difficult, interesting/boring, useful/confusing you find the material. By completing the following you will help us improve our delivery.<br />Please enter your feedback and click on arrow at top-left to save. \n",
        "\n",
        "#@markdown **This practical**\n",
        "\n",
        "#@markdown How difficult did you find this practical?\n",
        "practical_difficulty = 'Some bits were hard but overall it was doable' #@param ['No opinion', \"Too easy', 'Easy', 'About right', 'Some bits were hard but overall it was doable', 'Too difficult', 'Impossible']\n",
        "\n",
        "#@markdown Including online session time, how long (in minutes) did it take for you to finish this practical?\n",
        "practical_duration = 60 #@param {type: \"number\"}\n",
        "\n",
        "#@markdown **This week's material**\n",
        "\n",
        "#@markdown How difficult did you find each of the following this week?\n",
        "lecture_difficulty = 'About right' #@param ['No opinion', \"Too easy', 'Easy', 'About right', 'Some bits were hard but overall it was doable', 'Too difficult', 'Impossible']\n",
        "\n",
        "tutorial_questions_difficulty = 'Easy' #@param ['No opinion', \"Too easy', 'Easy', 'About right', 'Some bits were hard but overall it was doable', 'Too difficult', 'Impossible']\n",
        "\n",
        "#@markdown Use the line below to enter any comments &mdash; what you liked, what you did not like. Again all feedback is welcome.\n",
        "general_comment = \"\" #@param {type: \"string\"}"
      ]
    },
    {
      "cell_type": "code",
      "execution_count": null,
      "metadata": {
        "id": "4I6pPZG0iwfr"
      },
      "outputs": [],
      "source": []
    }
  ],
  "metadata": {
    "kernelspec": {
      "display_name": "Python 3",
      "language": "python",
      "name": "python3"
    },
    "language_info": {
      "codemirror_mode": {
        "name": "ipython",
        "version": 3
      },
      "file_extension": ".py",
      "mimetype": "text/x-python",
      "name": "python",
      "nbconvert_exporter": "python",
      "pygments_lexer": "ipython3",
      "version": "3.8.6"
    },
    "toc": {
      "toc_cell": false,
      "toc_number_sections": true,
      "toc_threshold": 6,
      "toc_window_display": false
    },
    "colab": {
      "provenance": []
    }
  },
  "nbformat": 4,
  "nbformat_minor": 0
}