{
  "cells": [
    {
      "cell_type": "markdown",
      "metadata": {
        "id": "Dajafvz5obcM",
        "label": "title"
      },
      "source": [
        "# Practical 06 - Relations"
      ]
    },
    {
      "cell_type": "code",
      "execution_count": null,
      "metadata": {
        "id": "YQucCV681v2x"
      },
      "outputs": [],
      "source": []
    },
    {
      "cell_type": "markdown",
      "metadata": {
        "id": "dGUHvpDUobcN",
        "label": "setup"
      },
      "source": [
        "## Setup"
      ]
    },
    {
      "cell_type": "code",
      "execution_count": 1,
      "metadata": {
        "cellView": "form",
        "id": "CXsnfskuobcN",
        "label": "bio"
      },
      "outputs": [],
      "source": [
        "#@markdown **Please enter your following details and press Shift-Enter to save:**\n",
        "your_student_number = 'Alexandra Dinea' #@param {type: \"string\"}\n",
        "your_name = '20101924' #@param {type: \"string\"}"
      ]
    },
    {
      "cell_type": "code",
      "execution_count": 2,
      "metadata": {
        "id": "gI-1sOMPobcN",
        "label": "setup",
        "colab": {
          "base_uri": "https://localhost:8080/",
          "height": 52
        },
        "outputId": "d5b83061-05b8-4cd3-f3d1-fa428347e631"
      },
      "outputs": [
        {
          "output_type": "stream",
          "name": "stdout",
          "text": [
            "Loading ... \n"
          ]
        },
        {
          "output_type": "display_data",
          "data": {
            "text/plain": [
              "<IPython.core.display.HTML object>"
            ],
            "text/html": [
              "<script>alert('Make sure to specify your student ID and your name in the Setup section of this notebook.');</script>"
            ]
          },
          "metadata": {}
        },
        {
          "output_type": "execute_result",
          "data": {
            "text/plain": [
              "<IPython.core.display.HTML object>"
            ],
            "text/html": [
              "<style>\n",
              "\n",
              "\n",
              "\n",
              "/* counting headers and my styling */\n",
              "\n",
              ".navbar-collapse.collapse {\n",
              "display: block!important;\n",
              "}\n",
              "\n",
              ".navbar-nav>li, .navbar-nav {\n",
              "float: left !important;\n",
              "}\n",
              "\n",
              ".navbar-nav.navbar-right:last-child {\n",
              "margin-right: -15px !important;\n",
              "}\n",
              "\n",
              ".navbar-right {\n",
              "float: right!important;\n",
              "}\n",
              "\n",
              "#notebook_name {\n",
              "    font-weight: 600;\n",
              "}\n",
              "\n",
              "h1 {\n",
              "\ttext-align: center;\n",
              "\tbackground-color: rgba(0,255,1,0.15);\n",
              "\tborder-bottom: 1px solid #cccccc;\n",
              "\tcounter-reset: h2counter;\t\n",
              "}\n",
              "\n",
              "h2 {\n",
              "\ttext-align: center;\n",
              "\twidth: 75%;\n",
              "\tmargin-left: 25%;\n",
              "\tbackground-color: rgba(255,255,1,0.15);\n",
              "\tborder-bottom: 1px solid #cccccc;\n",
              "\tcounter-reset: h3counter;\t\n",
              "}\n",
              "h2:before {\n",
              "\tcounter-increment: h2counter;\n",
              "}\n",
              "\n",
              "h3 {\n",
              "\tborder-bottom: 1px solid #cccccc;\t\n",
              "}\n",
              "h3:before {\n",
              "\tcounter-increment: h3counter;\n",
              "}\n",
              "\n",
              "h4 {\n",
              "\tborder-bottom: 1px solid #cccccc;\t\n",
              "}\n",
              "h4:before {\n",
              "\tcounter-increment: h4counter;\n",
              "}\n",
              " </style>Python practical setup tools version 2021.2. See <a target=\"_blank\" href=\"http://DiscreteMathematics-202122.github.io/liv/\">DiscreteMathematics-202122.github.io/live</a>"
            ]
          },
          "metadata": {},
          "execution_count": 2
        }
      ],
      "source": [
        "# setup magic, do not edit this cell! Just press Shift+Enter or click on arrow at top-left\n",
        "\n",
        "import urllib.request\n",
        "content = urllib.request.urlretrieve (\"http://discretemathematics-202122.github.io/live/resources/setup_practical_magic.py\")\n",
        "exec(open(content[0]).read())\n",
        "setup_practical(locals())"
      ]
    },
    {
      "cell_type": "markdown",
      "metadata": {
        "id": "gIumxI6cobcN",
        "label": "Introduction"
      },
      "source": [
        "---\n",
        "## Introduction\n",
        "\n",
        "In this practical we will construct relations and use python to verify their properties"
      ]
    },
    {
      "cell_type": "markdown",
      "metadata": {
        "id": "33Q2c3APobcN"
      },
      "source": [
        "### Mathematics Concepts\n",
        "\n",
        "**Cartesian product**\n",
        "\n",
        " * The __Cartesian product__ of two sets, $A$ and $B$, is \n",
        "$$A \\times B = \\{ (a,b) \\mid  a\\in A, b\\in B\\}$$\n",
        "or in English, it is the set of pairs of __ordered__ values. \"Ordered\" means that the first value in the pair is from the first set, $A$, and the second value is from the second set $B$.\n",
        "\n",
        " * The __Cartesian product__ of a set, $A$ with itself is \n",
        "$$A \\times A = \\{ (a,b) \\mid a\\in A, b\\in A\\}$$\n",
        "or in English, it is the set of pairs of ordered values, the first value is from set $A$ and the second value is from set $A$.\n",
        "\n",
        "**Relations**\n",
        "\n",
        "  * A __relation__ from set $A$ to set $B$ is a subset of the __Cartesian product__ $A \\times B$. \n",
        "    * Hence we can use the subset property to check if something is a relation or not. \n",
        "    * General expression for a relation from set $A$ to set $B$ is \n",
        "    $$ R = \\{ (a,b) \\mid  a\\in A, b\\in B\\ \\text{with}\\ SOME\\_CONDITION \\} $$ \n",
        "  \n",
        "  * Relations on a set have properties such as (check your notes for precise definitions).\n",
        "    * symmetric, reflexive, transitive\n",
        "    * irreflexive, asymmetric, anti-symmetric\n",
        "    \n"
      ]
    },
    {
      "cell_type": "markdown",
      "metadata": {
        "id": "0vNLy3ZBobcO"
      },
      "source": [
        "### Python Concepts\n",
        "\n",
        " * Cartesian product\n",
        " * Relations\n",
        "   * Checking relations using the `issubset` property of sets.\n",
        "   * Checking properties of relations using python programming\n",
        "\n",
        "From earlier practicals:\n",
        "\n",
        " * Set builder notation, check membership using `in` operator.\n",
        " * Using `len` to check for cardinality.\n",
        " * Using sets to check for duplicates &mdash; remember converting a `list` to `set` and results in fewer elements if there are duplicates.\n",
        "\n",
        " "
      ]
    },
    {
      "cell_type": "markdown",
      "metadata": {
        "id": "gE6P3C-VobcO"
      },
      "source": [
        "---\n",
        "## Cartesian Product  \n",
        "\n",
        " * The __Cartesian product__ of two sets, `A` and `B`, in python is \n",
        "\n",
        "~~~python\n",
        "    { (a,b) for a in A for b in B }\n",
        "~~~\n",
        "\n",
        " * The __Cartesian product__ of a set, `A` with itself, in python is \n",
        "\n",
        "~~~python\n",
        "    { (a,b) for a in A for b in A }\n",
        "~~~\n",
        "   Note: Just like in the Mathematics version above we needed to use a second symbol (here `b`) to represent the second value in the ordered pair.\n",
        "\n",
        "Finally to output the number of elements in a set (or a relation), `S`, we can use a `print` call.\n",
        "\n",
        "~~~python\n",
        "print(\"Number of elements in S =\", len(S))\n",
        "~~~"
      ]
    },
    {
      "cell_type": "markdown",
      "metadata": {
        "id": "t1PZ9jnUobcO"
      },
      "source": [
        "### Question 1\n",
        "\n",
        "To simply matters later we will start by defining some sets that will be used in subsequent questions.\n",
        "\n",
        "Define the following sets in python, and print them with a label and print out its size. (this first set is done for you).\n",
        "\n",
        " * Define set `A`, the set of positive integers less than or equal to 20, i.e., $A = \\{1,\\ldots,20\\}$\n",
        " * Define set `P`, the set of prime numbers less than or equal to 20. (there are only 8 so you can just list them)\n",
        " * Define set `V`, the set of lowercase vowels. Remember you need the put characters within quotes in python.\n",
        " * Define set `D`, the set of digits (0 to 9).\n",
        " * Define set `E`, the empty set.\n"
      ]
    },
    {
      "cell_type": "code",
      "execution_count": 5,
      "metadata": {
        "id": "atuZEJKEobcO",
        "label": "Q0",
        "outputId": "207edaa0-5523-4cb3-8cfe-51a2f3df08ea",
        "colab": {
          "base_uri": "https://localhost:8080/"
        }
      },
      "outputs": [
        {
          "output_type": "stream",
          "name": "stdout",
          "text": [
            "A = {1, 2, 3, 4, 5, 6, 7, 8, 9, 10, 11, 12, 13, 14, 15, 16, 17, 18, 19, 20} \n",
            "Number of elements = 20\n",
            "P = {2, 3, 5, 7, 11, 13, 17, 19} \n",
            "Number of elements = 8\n",
            "V = {'u', 'i', 'a', 'o', 'e'} \n",
            "Number of elements = 5\n",
            "D = {0, 1, 2, 3, 4, 5, 6, 7, 8, 9} \n",
            "Number of elements = 10\n",
            "E = set() \n",
            "Number of elements = 0\n"
          ]
        }
      ],
      "source": [
        "# Question 1\n",
        "\n",
        "A = set(range(1,21))\n",
        "print(\"A =\", A, \"\\nNumber of elements =\", len(A))\n",
        "P = {2,3,5,7,11,13,17,19}\n",
        "print(\"P =\", P, \"\\nNumber of elements =\", len(P))\n",
        "V = {\"a\", \"e\", \"i\", \"o\", \"u\"}\n",
        "print(\"V =\", V, \"\\nNumber of elements =\", len(V))\n",
        "D = {0,1,2,3,4,5,6,7,8,9}\n",
        "print(\"D =\", D, \"\\nNumber of elements =\", len(D))\n",
        "E = set()\n",
        "print(\"E =\", E, \"\\nNumber of elements =\", len(E))"
      ]
    },
    {
      "cell_type": "markdown",
      "metadata": {
        "id": "dRvaBCsLobcO"
      },
      "source": [
        "### Question 2\n",
        "\n",
        "Define set `C` as the Cartesian product of the set `A` and the set `V` (from Question 1). \n",
        "Print out `C` and print out the size of `C`.\n",
        "\n",
        "Notes on answer:\n",
        "\n",
        " * The Cartesian set becomes very large when input sets are large.\n",
        " * The pairs contain ordered values - \"ordered\" is not the same as \"sorted\". Ordered here means that within each pair the first value (a number) comes form the first set, and the second value (a letter) comes from the second set. \n",
        " * The \"pairs contain ordered values\" is different to saying \"the pairs are ordered\". In fact, since a Cartesian product is a set the  order of the pairs is not a concern."
      ]
    },
    {
      "cell_type": "code",
      "execution_count": 6,
      "metadata": {
        "id": "eC0CoL88obcO",
        "outputId": "9301ec7a-e11f-451c-c70b-9b6dfa1f3e73",
        "colab": {
          "base_uri": "https://localhost:8080/"
        }
      },
      "outputs": [
        {
          "output_type": "stream",
          "name": "stdout",
          "text": [
            "A = {1, 2, 3, 4, 5, 6, 7, 8, 9, 10, 11, 12, 13, 14, 15, 16, 17, 18, 19, 20}\n",
            "V = {'u', 'i', 'a', 'o', 'e'}\n",
            "C = {(18, 20), (3, 1), (12, 10), (4, 6), (5, 7), (14, 16), (8, 6), (17, 15), (9, 11), (16, 14), (10, 12), (1, 3), (13, 11), (6, 8), (15, 17), (18, 16), (4, 2), (5, 3), (14, 12), (9, 7), (2, 4), (10, 8), (19, 17), (11, 13), (6, 4), (15, 13), (7, 9), (13, 15), (16, 18), (20, 18), (3, 5), (12, 14), (8, 10), (11, 9), (17, 19), (7, 5)}\n"
          ]
        }
      ],
      "source": [
        "# Question 2\n",
        "A = set(range(1,21))\n",
        "print(\"A =\", A)\n",
        "V = {'a', 'e', 'i', 'o', 'u'}\n",
        "print(\"V =\", V)\n",
        "C = {(a,b) for a in A for b in A if abs(a-b)==2 }\n",
        "print(f\"C = {C}\")"
      ]
    },
    {
      "cell_type": "markdown",
      "metadata": {
        "id": "5shfOgLsobcO"
      },
      "source": [
        "### Question 3 (Cartesian product with empty sets)\n",
        "\n",
        "For each of the following, write python to generate the Cartesian product, print out the resulting set and its number of elements.\n",
        "\n",
        " * $C = A \\times E$\n",
        " * $C = E \\times A$\n",
        " * $C = E \\times E$"
      ]
    },
    {
      "cell_type": "code",
      "execution_count": 7,
      "metadata": {
        "id": "zaGBqPjPobcO",
        "outputId": "26fe7401-5ae3-48bc-c8d1-fe5eb01daed4",
        "colab": {
          "base_uri": "https://localhost:8080/"
        }
      },
      "outputs": [
        {
          "output_type": "stream",
          "name": "stdout",
          "text": [
            "C = {(20, 17), (11, 8), (11, 14), (2, 5), (7, 4), (16, 13), (7, 10), (16, 19), (12, 9), (3, 6), (12, 15), (8, 5), (8, 11), (17, 14), (17, 20), (13, 10), (13, 16), (15, 18), (18, 15), (4, 1), (4, 7), (5, 2), (14, 11), (5, 8), (14, 17), (15, 12), (9, 6), (9, 12), (10, 7), (1, 4), (10, 13), (19, 16), (6, 3), (6, 9)} \n",
            "Number of elements = 34\n"
          ]
        }
      ],
      "source": [
        "# Question 3\n",
        "C = {(a,e) for a in A for e in A if abs(a-e)==3}\n",
        "print(\"C =\", C, \"\\nNumber of elements =\", len(C))"
      ]
    },
    {
      "cell_type": "markdown",
      "metadata": {
        "id": "HL31e30KobcO"
      },
      "source": [
        "---\n",
        "## Relations\n",
        "\n",
        " * A __Relation__ from set `A` to set `B`, in python can be written as \n",
        "\n",
        "~~~python\n",
        "    R = { (a, b) for a in A for b in B if CONDITION }\n",
        "~~~\n",
        "\n",
        "where\n",
        "\n",
        " * `CONDITION` can be any boolean expression involving `a` and `b`. Or can be dropped entirely.\n",
        "     \n",
        "\n",
        " * A __Relation__ on set `A` in python can be written as \n",
        "\n",
        "~~~python\n",
        "    R = { (a, b) for a in A for b in A if CONDITION }\n",
        "~~~\n",
        "\n",
        " * Again, note the different symbol for the elements from the second set.\n"
      ]
    },
    {
      "cell_type": "markdown",
      "metadata": {
        "id": "miGSbNwvobcO"
      },
      "source": [
        "### Example\n",
        "\n",
        "Consider, $R$, the relation _\"has the same remainder when divided by 5\"_ on the set D (defined in Question 1).  \n",
        "\n",
        " * Implement this relation in python.\n",
        " * Print the relation and its number of elements (pairs).\n",
        " * Verify that $R$ is a subset of $D\\times D$, but is not a subset of $A\\times A$ (defined in Question 1)."
      ]
    },
    {
      "cell_type": "code",
      "execution_count": 8,
      "metadata": {
        "id": "1hgcwI-xobcO"
      },
      "outputs": [],
      "source": [
        "# Implement this relation in python\n",
        "R = { (a,b) for a in D for b in D if a%5==b%5}"
      ]
    },
    {
      "cell_type": "code",
      "execution_count": 9,
      "metadata": {
        "id": "W4s5pckBobcP",
        "colab": {
          "base_uri": "https://localhost:8080/"
        },
        "outputId": "a8135a02-a79a-4dcd-fe62-a2eeee82aa34"
      },
      "outputs": [
        {
          "output_type": "stream",
          "name": "stdout",
          "text": [
            "R = {(4, 9), (8, 3), (0, 5), (2, 2), (1, 6), (7, 7), (3, 3), (5, 0), (9, 4), (8, 8), (2, 7), (6, 1), (4, 4), (3, 8), (5, 5), (0, 0), (9, 9), (1, 1), (7, 2), (6, 6)} \n",
            "Number of elements = 20\n"
          ]
        }
      ],
      "source": [
        "# Print the relation and its number of elements (pairs)\n",
        "\n",
        "print(\"R =\", R, \"\\nNumber of elements =\", len(R))"
      ]
    },
    {
      "cell_type": "code",
      "execution_count": 10,
      "metadata": {
        "id": "jEqk-RYyobcP",
        "colab": {
          "base_uri": "https://localhost:8080/"
        },
        "outputId": "9fb8fdc0-ecd6-4b20-e4f9-049659cbac75"
      },
      "outputs": [
        {
          "output_type": "stream",
          "name": "stdout",
          "text": [
            "Is R a subset of DxD? True\n"
          ]
        }
      ],
      "source": [
        "# Verify that 𝑅 is a subset of DxD\n",
        "\n",
        "DxD = { (a,b) for a in D for b in D }\n",
        "print(\"Is R a subset of DxD?\", R.issubset(DxD) )"
      ]
    },
    {
      "cell_type": "code",
      "execution_count": 11,
      "metadata": {
        "id": "09WJfLV6obcP",
        "colab": {
          "base_uri": "https://localhost:8080/"
        },
        "outputId": "19557284-4662-4226-d3da-046c0f128c09"
      },
      "outputs": [
        {
          "output_type": "stream",
          "name": "stdout",
          "text": [
            "Is R a subset of AxA? False\n",
            "R is not a subset of AxA because R contains the following pairs (which are not in AxA) {(5, 0), (0, 5), (0, 0)}\n"
          ]
        }
      ],
      "source": [
        "# Verify that 𝑅 is not a subset of AxA \n",
        "\n",
        "AxA = { (a,b) for a in A for b in A }\n",
        "print(\"Is R a subset of AxA?\", R.issubset(AxA) )\n",
        "\n",
        "# (for extra points) Why is R not a subset of AxA? What pairs are \"causing the problem?\" \n",
        "\n",
        "# To answer this we build a set of pairs NOT in AxA\n",
        "\n",
        "pairs = { pair for pair in R if pair not in AxA }\n",
        "\n",
        "print(\"R is not a subset of AxA because R contains the following pairs (which are not in AxA)\", pairs)"
      ]
    },
    {
      "cell_type": "markdown",
      "metadata": {
        "id": "e6QRltySobcP"
      },
      "source": [
        "### Question 4\n",
        "\n",
        "Consider R, a relation from $A$ to $D$ (both defined in Question 1) defined by\n",
        "\n",
        "$$ R = \\{(a,d) \\mid a \\in A, d \\in D, \\text{where}\\  a>d  \\} $$ \n",
        "\n",
        " * Implement $R$ in python\n",
        " * Print out $R$ and its number of elements.\n",
        " * Verify that $R$ is a subset of $A\\times D$, but $R$ is not a subset of $D\\times A$."
      ]
    },
    {
      "cell_type": "code",
      "execution_count": 18,
      "metadata": {
        "id": "_LP5fsMxobcP"
      },
      "outputs": [],
      "source": [
        "# Question 4\n",
        "R = { (a,b) for a in A for b in D if a > b}"
      ]
    },
    {
      "cell_type": "code",
      "execution_count": 19,
      "metadata": {
        "id": "xpT43tbmobcP",
        "colab": {
          "base_uri": "https://localhost:8080/"
        },
        "outputId": "7ae7b7af-325a-42a8-81ae-c4a3afabb0f6"
      },
      "outputs": [
        {
          "output_type": "stream",
          "name": "stdout",
          "text": [
            "R = {(12, 4), (4, 0), (5, 1), (8, 0), (17, 3), (19, 0), (19, 9), (10, 6), (9, 8), (11, 5), (13, 8), (15, 5), (6, 2), (7, 1), (18, 1), (4, 2), (5, 3), (8, 2), (17, 5), (9, 1), (19, 2), (11, 7), (13, 1), (15, 7), (6, 4), (16, 6), (7, 3), (18, 3), (14, 8), (17, 7), (8, 4), (19, 4), (9, 3), (11, 0), (11, 9), (13, 3), (15, 0), (15, 9), (16, 8), (7, 5), (18, 5), (20, 8), (3, 1), (14, 1), (17, 0), (17, 9), (19, 6), (9, 5), (11, 2), (13, 5), (15, 2), (16, 1), (18, 7), (20, 1), (12, 6), (14, 3), (5, 0), (17, 2), (9, 7), (11, 4), (10, 8), (13, 7), (15, 4), (6, 1), (16, 3), (7, 0), (18, 0), (18, 9), (20, 3), (12, 8), (14, 5), (5, 2), (17, 4), (9, 0), (10, 1), (13, 0), (13, 9), (15, 6), (16, 5), (7, 2), (18, 2), (20, 5), (12, 1), (14, 7), (5, 4), (9, 2), (8, 6), (10, 3), (1, 0), (13, 2), (16, 7), (7, 4), (18, 4), (20, 7), (12, 3), (3, 0), (14, 0), (14, 9), (19, 8), (10, 5), (13, 4), (2, 1), (16, 0), (16, 9), (20, 0), (20, 9), (12, 5), (3, 2), (14, 2), (4, 1), (8, 1), (19, 1), (10, 7), (11, 6), (16, 2), (6, 3), (20, 2), (12, 7), (14, 4), (4, 3), (17, 6), (8, 3), (10, 0), (19, 3), (10, 9), (11, 8), (16, 4), (15, 8), (6, 5), (20, 4), (12, 0), (12, 9), (14, 6), (17, 8), (8, 5), (10, 2), (9, 4), (11, 1), (19, 5), (15, 1), (20, 6), (7, 6), (18, 6), (12, 2), (17, 1), (8, 7), (10, 4), (9, 6), (11, 3), (2, 0), (19, 7), (13, 6), (15, 3), (6, 0), (18, 8)} \n",
            "Number of elements = 155\n"
          ]
        }
      ],
      "source": [
        "print(\"R =\", R, \"\\nNumber of elements =\", len(R))"
      ]
    },
    {
      "cell_type": "code",
      "execution_count": 21,
      "metadata": {
        "id": "oWMNtkj2obcP",
        "colab": {
          "base_uri": "https://localhost:8080/"
        },
        "outputId": "bb8a95dc-2125-4c2b-8ccd-a5623612f341"
      },
      "outputs": [
        {
          "output_type": "stream",
          "name": "stdout",
          "text": [
            "Is R a subset of AxD? True\n",
            "R is not a subset of DxA because R contains the following pairs (which are not in AxA) set()\n"
          ]
        }
      ],
      "source": [
        "AxD = { (a,b) for a in A for b in D }\n",
        "print(\"Is R a subset of AxD?\", R.issubset(AxD) )\n",
        "pairs = { pair for pair in R if pair not in AxD }\n",
        "print(\"R is not a subset of DxA because R contains the following pairs (which are not in AxA)\", pairs)"
      ]
    },
    {
      "cell_type": "markdown",
      "metadata": {
        "id": "m-35SMHHobcP"
      },
      "source": [
        "### Question 5\n",
        "\n",
        "Consider the following relation on the set $A$ (defined in Question 1)\n",
        "\n",
        "$$ R_1 = \\{(a,b) \\mid a \\in A, b \\in A \\text{ where } b=a^2 \\}$$ \n",
        "\n",
        "And consider $R_2$ where \n",
        "\n",
        "$$ R_2 = \\{(a,a^2) \\mid a \\in A \\}$$ \n",
        "\n",
        " * Implement both relations in python and output their elements and size.\n",
        " * Are these relations equal? Why?\n",
        "\n",
        "\n",
        "Note: While $R_2$ is a relation, it is not a relation on $A$ because the expression $a^2$ will produce values not in $A$."
      ]
    },
    {
      "cell_type": "code",
      "execution_count": 22,
      "metadata": {
        "id": "v0e4FrxzobcP",
        "label": "Q1",
        "colab": {
          "base_uri": "https://localhost:8080/"
        },
        "outputId": "f06c096f-b743-43b4-94a8-227455313b92"
      },
      "outputs": [
        {
          "output_type": "stream",
          "name": "stdout",
          "text": [
            "R1 = {(16, 4), (1, 1), (9, 3), (4, 2)} \n",
            "Number of elements = 4\n",
            "R2 = {(14, 196), (12, 144), (8, 64), (6, 36), (11, 121), (15, 225), (5, 25), (9, 81), (17, 289), (18, 324), (10, 100), (3, 9), (13, 169), (7, 49), (2, 4), (20, 400), (16, 256), (4, 16), (19, 361), (1, 1)} \n",
            "Number of elements = 20\n"
          ]
        }
      ],
      "source": [
        "# Question 5\n",
        "R1 = { (a,b) for a in A for b in A if a == b**2}\n",
        "R2 = { (a, a**2) for a in A}\n",
        "print(\"R1 =\", R1, \"\\nNumber of elements =\", len(R1))\n",
        "print(\"R2 =\", R2, \"\\nNumber of elements =\", len(R2))\n"
      ]
    },
    {
      "cell_type": "code",
      "execution_count": 25,
      "metadata": {
        "id": "bwLoO5LfobcP",
        "colab": {
          "base_uri": "https://localhost:8080/"
        },
        "outputId": "58dc5bc6-20ba-4b17-8143-de79a92951b4"
      },
      "outputs": [
        {
          "output_type": "stream",
          "name": "stdout",
          "text": [
            "Is R1 equal to R2 False\n"
          ]
        }
      ],
      "source": [
        "print(\"Is R1 equal to R2\", (R1 == R2)) \n",
        "# r1 isnt equal r2 as the length of r1 is not the same as r2."
      ]
    },
    {
      "cell_type": "markdown",
      "metadata": {
        "id": "Tr_oJPG9obcP"
      },
      "source": [
        "### Question 6\n",
        "\n",
        "Consider, $R$, the relation _\"comes before it in the alphabet\"_ on $V$, the set of vowels (defined in question 1),\n",
        "\n",
        "$$  R = \\{(a,b) \\mid a \\in V, b \\in V \\text{ where } a<b \\} $$\n",
        "\n",
        " * Implement this relation in python. Note operator `<` works with letters (if both are lower (or upper) case)  \n",
        " * Output the relation and its size. \n",
        " * Verify that $R$ is a subset of $V\\times V$."
      ]
    },
    {
      "cell_type": "code",
      "execution_count": 28,
      "metadata": {
        "id": "djFsK-0QobcP",
        "label": "Q2",
        "colab": {
          "base_uri": "https://localhost:8080/"
        },
        "outputId": "49631024-93ba-45f5-cb31-5302f06b3a9f"
      },
      "outputs": [
        {
          "output_type": "stream",
          "name": "stdout",
          "text": [
            "R = {('i', 'o'), ('i', 'u'), ('a', 'e'), ('e', 'o'), ('e', 'u'), ('a', 'o'), ('a', 'u'), ('e', 'i'), ('a', 'i'), ('o', 'u')} \n",
            "Number of elements = 10\n",
            "Is R a subset of VxV True\n"
          ]
        }
      ],
      "source": [
        "# Question 6\n",
        "R = { (a,b) for a in V for b in V if a < b}\n",
        "print(\"R =\", R, \"\\nNumber of elements =\", len(R))\n",
        "VxV = { (a,b) for a in V for b in V }\n",
        "print(\"Is R a subset of VxV\", R.issubset(VxV) )"
      ]
    },
    {
      "cell_type": "markdown",
      "metadata": {
        "id": "CcKA5AcwobcP"
      },
      "source": [
        "---\n",
        "## Properties of Relations (Harder questions)\n",
        "\n",
        "These questions are a little harder as they require you to combine multiple concepts to generate the required result."
      ]
    },
    {
      "cell_type": "markdown",
      "metadata": {
        "id": "DXn0eeARobcP"
      },
      "source": [
        "### Question 7 (reflexive)\n",
        "\n",
        "Consider, $R$, the relation implemented in question 6, i.e.,\n",
        "\n",
        "$$  R = \\{(a,b) \\mid a \\in V, b \\in V \\text{ where } a<b \\} $$\n",
        "\n",
        " * Write code to test whether this relation is reflexive.  \n",
        " \n",
        " \n",
        "Hint: generate a set of pairs of the form $(a,a)$ where $a \\in V$ and check if the generated set is a subset of $R$.\n",
        " "
      ]
    },
    {
      "cell_type": "code",
      "execution_count": 34,
      "metadata": {
        "id": "YZKd1CjhobcP",
        "label": "Q3",
        "colab": {
          "base_uri": "https://localhost:8080/"
        },
        "outputId": "2e1fe4ae-91ce-4898-b4fb-266d3d7ebddc"
      },
      "outputs": [
        {
          "output_type": "stream",
          "name": "stdout",
          "text": [
            "Is R reflexive to V? False\n"
          ]
        }
      ],
      "source": [
        "# Question 7\n",
        "pairs = {(a, a) for a in V}\n",
        "print(\"Is R reflexive to V?\", R.issubset(V))\n"
      ]
    },
    {
      "cell_type": "markdown",
      "metadata": {
        "id": "GoQkI01-obcQ"
      },
      "source": [
        "### Question 8 (symmetric)\n",
        "\n",
        "Consider, $R$, the relation implemented in question 6, i.e.,\n",
        "\n",
        "$$  R = \\{(a,b) \\mid a \\in V, b \\in V \\text{ where } a<b \\} $$\n",
        "\n",
        "\n",
        " * Write code to test whether this relation is symmetric. \n",
        " \n",
        "Hint: Generate a set of pairs with the order of the elements reversed. Then check that this set is a subset of $R$.\n",
        "\n",
        "To generate a set of pairs with the order of the elements reversed, you could use\n",
        "\n",
        "~~~python\n",
        "   K = { (b,a) for (a,b) in R }\n",
        "~~~\n",
        " "
      ]
    },
    {
      "cell_type": "code",
      "execution_count": 36,
      "metadata": {
        "id": "IybXeWvCobcQ",
        "label": "Q3",
        "colab": {
          "base_uri": "https://localhost:8080/"
        },
        "outputId": "401d3aa6-bd7b-4fc8-cfa5-b5abde0b47e2"
      },
      "outputs": [
        {
          "output_type": "stream",
          "name": "stdout",
          "text": [
            "Is R symmetric to R? True\n"
          ]
        }
      ],
      "source": [
        "# Question 8\n",
        "pairs = {(b,a) for (a,b) in R }\n",
        "print(\"Is R symmetric to R?\", R.issubset(R))"
      ]
    },
    {
      "cell_type": "markdown",
      "metadata": {
        "id": "BMH-XP09obcQ"
      },
      "source": [
        "---\n",
        "## Optional &mdash; Other properties of Relations (Even Harder questions)\n",
        "\n",
        "Due to time constraints we have not covered the transitive property or the irreflexive, asymmetric, and anti-symmetric properties. All of these properties can be implemented in python using code similar to that used in the previous two questions. Feel free to implement\n"
      ]
    },
    {
      "cell_type": "markdown",
      "metadata": {
        "id": "VpdcGge7obcQ"
      },
      "source": [
        "### Question 9 (transitive)\n",
        "\n",
        "Consider, $R$, the relation implemented in question 6, i.e.,\n",
        "\n",
        "$$  R = \\{(a,b) \\mid a \\in V, b \\in V \\text{ where } a<b \\} $$\n",
        "\n",
        "\n",
        " * Write code to test whether this relation is transitive. "
      ]
    },
    {
      "cell_type": "code",
      "execution_count": null,
      "metadata": {
        "id": "uDjwEi8bobcQ"
      },
      "outputs": [],
      "source": [
        "# Question 9\n"
      ]
    },
    {
      "cell_type": "markdown",
      "metadata": {
        "id": "Vm1oxTv-obcQ"
      },
      "source": [
        "### Question 10 (asymmetric)\n",
        "\n",
        "Consider, $R$, the relation implemented in question 6, i.e.,\n",
        "\n",
        "$$  R = \\{(a,b) \\mid a \\in V, b \\in V \\text{ where } a<b \\} $$\n",
        "\n",
        "\n",
        " * Write code to test whether this relation is asymmetric. "
      ]
    },
    {
      "cell_type": "code",
      "execution_count": null,
      "metadata": {
        "id": "LkqImU6YobcQ"
      },
      "outputs": [],
      "source": [
        "# Question 10\n"
      ]
    },
    {
      "cell_type": "markdown",
      "metadata": {
        "id": "kW1xTDTnobcQ"
      },
      "source": [
        "### Question 11 (transitive)\n",
        "\n",
        "Consider, $R$, the relation implemented in question 6, i.e.,\n",
        "\n",
        "$$  R = \\{(a,b) \\mid a \\in V, b \\in V \\text{ where } a<b \\} $$\n",
        "\n",
        "\n",
        " * Write code to test whether this relation is transitive. "
      ]
    },
    {
      "cell_type": "code",
      "execution_count": null,
      "metadata": {
        "id": "Cx2fyUwDobcQ"
      },
      "outputs": [],
      "source": [
        "# Question 11\n"
      ]
    },
    {
      "cell_type": "markdown",
      "metadata": {
        "id": "ufMvKIZKobcQ"
      },
      "source": [
        "### Question 12 (anti-symmetric)\n",
        "\n",
        "Consider, $R$, the relation implemented in question 6, i.e.,\n",
        "\n",
        "$$  R = \\{(a,b) \\mid a \\in V, b \\in V \\text{ where } a<b \\} $$\n",
        "\n",
        "\n",
        " * Write code to test whether this relation is anti-symmetric. "
      ]
    },
    {
      "cell_type": "code",
      "execution_count": null,
      "metadata": {
        "id": "s5_vFEnrobcQ"
      },
      "outputs": [],
      "source": [
        "# Question 12\n"
      ]
    },
    {
      "cell_type": "markdown",
      "metadata": {
        "id": "Fupb7zMXobcQ"
      },
      "source": [
        "---\n",
        "## Review/Feedback (P06)"
      ]
    },
    {
      "cell_type": "code",
      "execution_count": 37,
      "metadata": {
        "cellView": "form",
        "id": "2TW5QrGFobcQ"
      },
      "outputs": [],
      "source": [
        "#@markdown This a a short questionnaire for you to provide feedback on how you think the semester is progressing and in particular for __Discrete Mathematics__, how easy/difficult, interesting/boring, useful/confusing you find the material. By completing the following you will help us improve our delivery.<br />Please enter your feedback and click on arrow at top-left to save. \n",
        "\n",
        "#@markdown **This practical**\n",
        "\n",
        "#@markdown How difficult did you find this practical?\n",
        "practical_difficulty = 'Some bits were hard but overall it was doable' #@param ['No opinion', \"Too easy', 'Easy', 'About right', 'Some bits were hard but overall it was doable', 'Too difficult', 'Impossible']\n",
        "\n",
        "#@markdown Including online session time, how long (in minutes) did it take for you to finish this practical?\n",
        "practical_duration = 60 #@param {type: \"number\"}\n",
        "\n",
        "#@markdown **This week's material**\n",
        "\n",
        "#@markdown How difficult did you find each of the following this week?\n",
        "lecture_difficulty = 'No opinion' #@param ['No opinion', \"Too easy', 'Easy', 'About right', 'Some bits were hard but overall it was doable', 'Too difficult', 'Impossible']\n",
        "\n",
        "tutorial_questions_difficulty = 'No opinion' #@param ['No opinion', \"Too easy', 'Easy', 'About right', 'Some bits were hard but overall it was doable', 'Too difficult', 'Impossible']\n",
        "\n",
        "#@markdown Use the line below to enter any comments &mdash; what you liked, what you did not like. Again all feedback is welcome.\n",
        "general_comment = \"\" #@param {type: \"string\"}"
      ]
    },
    {
      "cell_type": "code",
      "source": [],
      "metadata": {
        "id": "x0Ci-IMRH5aC"
      },
      "execution_count": null,
      "outputs": []
    }
  ],
  "metadata": {
    "colab": {
      "provenance": []
    },
    "kernelspec": {
      "display_name": "Python 3",
      "language": "python",
      "name": "python3"
    },
    "language_info": {
      "codemirror_mode": {
        "name": "ipython",
        "version": 3
      },
      "file_extension": ".py",
      "mimetype": "text/x-python",
      "name": "python",
      "nbconvert_exporter": "python",
      "pygments_lexer": "ipython3",
      "version": "3.9.0"
    },
    "toc": {
      "toc_cell": false,
      "toc_number_sections": true,
      "toc_threshold": 6,
      "toc_window_display": false
    },
    "toc-autonumbering": false
  },
  "nbformat": 4,
  "nbformat_minor": 0
}